{
 "cells": [
  {
   "cell_type": "code",
   "execution_count": 2,
   "metadata": {},
   "outputs": [
    {
     "name": "stdout",
     "output_type": "stream",
     "text": [
      "Warning: Your Kaggle API key is readable by other users on this system! To fix this, you can run 'chmod 600 /Users/yasir_savanur/.kaggle/kaggle.json'\n"
     ]
    }
   ],
   "source": [
    "import pandas as pd\n",
    "import zipfile\n",
    "import kaggle"
   ]
  },
  {
   "cell_type": "code",
   "execution_count": 3,
   "metadata": {},
   "outputs": [
    {
     "name": "stdout",
     "output_type": "stream",
     "text": [
      "Warning: Your Kaggle API key is readable by other users on this system! To fix this, you can run 'chmod 600 /Users/yasir_savanur/.kaggle/kaggle.json'\n",
      "bangalore-accident-data.zip: Skipping, found more recently modified local copy (use --force to force download)\n"
     ]
    }
   ],
   "source": [
    "!kaggle datasets download -d apoorvwatsky/bangalore-accident-data"
   ]
  },
  {
   "cell_type": "code",
   "execution_count": 4,
   "metadata": {},
   "outputs": [],
   "source": [
    "zipfile_name = 'bangalore-accident-data.zip'\n",
    "with zipfile.ZipFile(zipfile_name, 'r') as file:\n",
    "    file.extractall()"
   ]
  },
  {
   "cell_type": "code",
   "execution_count": 5,
   "metadata": {},
   "outputs": [],
   "source": [
    "accidents = pd.read_csv(\"bangalore-cas-alerts.csv\")"
   ]
  },
  {
   "cell_type": "code",
   "execution_count": 6,
   "metadata": {},
   "outputs": [
    {
     "name": "stdout",
     "output_type": "stream",
     "text": [
      "<class 'pandas.core.frame.DataFrame'>\n",
      "RangeIndex: 207617 entries, 0 to 207616\n",
      "Data columns (total 7 columns):\n",
      " #   Column                              Non-Null Count   Dtype  \n",
      "---  ------                              --------------   -----  \n",
      " 0   deviceCode_deviceCode               207617 non-null  int64  \n",
      " 1   deviceCode_location_latitude        207617 non-null  float64\n",
      " 2   deviceCode_location_longitude       207617 non-null  float64\n",
      " 3   deviceCode_location_wardName        207617 non-null  object \n",
      " 4   deviceCode_pyld_alarmType           207617 non-null  object \n",
      " 5   deviceCode_pyld_speed               207617 non-null  int64  \n",
      " 6   deviceCode_time_recordedTime_$date  207617 non-null  object \n",
      "dtypes: float64(2), int64(2), object(3)\n",
      "memory usage: 11.1+ MB\n"
     ]
    }
   ],
   "source": [
    "accidents.info()"
   ]
  },
  {
   "cell_type": "code",
   "execution_count": 7,
   "metadata": {},
   "outputs": [
    {
     "data": {
      "text/plain": [
       "(207617, 7)"
      ]
     },
     "execution_count": 7,
     "metadata": {},
     "output_type": "execute_result"
    }
   ],
   "source": [
    "accidents.shape"
   ]
  },
  {
   "cell_type": "code",
   "execution_count": 8,
   "metadata": {},
   "outputs": [
    {
     "data": {
      "text/html": [
       "<div>\n",
       "<style scoped>\n",
       "    .dataframe tbody tr th:only-of-type {\n",
       "        vertical-align: middle;\n",
       "    }\n",
       "\n",
       "    .dataframe tbody tr th {\n",
       "        vertical-align: top;\n",
       "    }\n",
       "\n",
       "    .dataframe thead th {\n",
       "        text-align: right;\n",
       "    }\n",
       "</style>\n",
       "<table border=\"1\" class=\"dataframe\">\n",
       "  <thead>\n",
       "    <tr style=\"text-align: right;\">\n",
       "      <th></th>\n",
       "      <th>deviceCode_deviceCode</th>\n",
       "      <th>deviceCode_location_latitude</th>\n",
       "      <th>deviceCode_location_longitude</th>\n",
       "      <th>deviceCode_location_wardName</th>\n",
       "      <th>deviceCode_pyld_alarmType</th>\n",
       "      <th>deviceCode_pyld_speed</th>\n",
       "      <th>deviceCode_time_recordedTime_$date</th>\n",
       "    </tr>\n",
       "  </thead>\n",
       "  <tbody>\n",
       "    <tr>\n",
       "      <th>0</th>\n",
       "      <td>864504031502210</td>\n",
       "      <td>12.984595</td>\n",
       "      <td>77.744087</td>\n",
       "      <td>Kadugodi</td>\n",
       "      <td>PCW</td>\n",
       "      <td>32</td>\n",
       "      <td>2018-02-01T01:48:59.000Z</td>\n",
       "    </tr>\n",
       "    <tr>\n",
       "      <th>1</th>\n",
       "      <td>864504031502210</td>\n",
       "      <td>12.984595</td>\n",
       "      <td>77.744087</td>\n",
       "      <td>Kadugodi</td>\n",
       "      <td>PCW</td>\n",
       "      <td>32</td>\n",
       "      <td>2018-02-01T01:48:59.000Z</td>\n",
       "    </tr>\n",
       "    <tr>\n",
       "      <th>2</th>\n",
       "      <td>864504031502210</td>\n",
       "      <td>12.987233</td>\n",
       "      <td>77.741119</td>\n",
       "      <td>Garudachar Playa</td>\n",
       "      <td>FCW</td>\n",
       "      <td>41</td>\n",
       "      <td>2018-02-01T01:50:00.000Z</td>\n",
       "    </tr>\n",
       "    <tr>\n",
       "      <th>3</th>\n",
       "      <td>864504031502210</td>\n",
       "      <td>12.987233</td>\n",
       "      <td>77.741119</td>\n",
       "      <td>Garudachar Playa</td>\n",
       "      <td>FCW</td>\n",
       "      <td>41</td>\n",
       "      <td>2018-02-01T01:50:00.000Z</td>\n",
       "    </tr>\n",
       "    <tr>\n",
       "      <th>4</th>\n",
       "      <td>864504031502210</td>\n",
       "      <td>12.987503</td>\n",
       "      <td>77.740051</td>\n",
       "      <td>Hudi</td>\n",
       "      <td>Overspeed</td>\n",
       "      <td>37</td>\n",
       "      <td>2018-02-01T01:50:11.000Z</td>\n",
       "    </tr>\n",
       "    <tr>\n",
       "      <th>...</th>\n",
       "      <td>...</td>\n",
       "      <td>...</td>\n",
       "      <td>...</td>\n",
       "      <td>...</td>\n",
       "      <td>...</td>\n",
       "      <td>...</td>\n",
       "      <td>...</td>\n",
       "    </tr>\n",
       "    <tr>\n",
       "      <th>207612</th>\n",
       "      <td>864504031432707</td>\n",
       "      <td>12.976435</td>\n",
       "      <td>77.741516</td>\n",
       "      <td>Kadugodi</td>\n",
       "      <td>UFCW</td>\n",
       "      <td>0</td>\n",
       "      <td>2018-07-30T10:56:12.000Z</td>\n",
       "    </tr>\n",
       "    <tr>\n",
       "      <th>207613</th>\n",
       "      <td>864504031035658</td>\n",
       "      <td>12.986425</td>\n",
       "      <td>77.745117</td>\n",
       "      <td>Kadugodi</td>\n",
       "      <td>UFCW</td>\n",
       "      <td>12</td>\n",
       "      <td>2018-07-30T11:07:19.000Z</td>\n",
       "    </tr>\n",
       "    <tr>\n",
       "      <th>207614</th>\n",
       "      <td>863977033828919</td>\n",
       "      <td>12.969396</td>\n",
       "      <td>77.749886</td>\n",
       "      <td>Hagadur</td>\n",
       "      <td>Overspeed</td>\n",
       "      <td>17</td>\n",
       "      <td>2018-07-30T11:14:02.000Z</td>\n",
       "    </tr>\n",
       "    <tr>\n",
       "      <th>207615</th>\n",
       "      <td>863977033715231</td>\n",
       "      <td>12.974123</td>\n",
       "      <td>77.746841</td>\n",
       "      <td>Hagadur</td>\n",
       "      <td>FCW</td>\n",
       "      <td>36</td>\n",
       "      <td>2018-07-30T11:16:24.000Z</td>\n",
       "    </tr>\n",
       "    <tr>\n",
       "      <th>207616</th>\n",
       "      <td>863977033827523</td>\n",
       "      <td>12.975480</td>\n",
       "      <td>77.744125</td>\n",
       "      <td>Hagadur</td>\n",
       "      <td>PCW</td>\n",
       "      <td>28</td>\n",
       "      <td>2018-07-30T11:25:51.000Z</td>\n",
       "    </tr>\n",
       "  </tbody>\n",
       "</table>\n",
       "<p>207617 rows × 7 columns</p>\n",
       "</div>"
      ],
      "text/plain": [
       "        deviceCode_deviceCode  deviceCode_location_latitude   \n",
       "0             864504031502210                     12.984595  \\\n",
       "1             864504031502210                     12.984595   \n",
       "2             864504031502210                     12.987233   \n",
       "3             864504031502210                     12.987233   \n",
       "4             864504031502210                     12.987503   \n",
       "...                       ...                           ...   \n",
       "207612        864504031432707                     12.976435   \n",
       "207613        864504031035658                     12.986425   \n",
       "207614        863977033828919                     12.969396   \n",
       "207615        863977033715231                     12.974123   \n",
       "207616        863977033827523                     12.975480   \n",
       "\n",
       "        deviceCode_location_longitude deviceCode_location_wardName   \n",
       "0                           77.744087                     Kadugodi  \\\n",
       "1                           77.744087                     Kadugodi   \n",
       "2                           77.741119             Garudachar Playa   \n",
       "3                           77.741119             Garudachar Playa   \n",
       "4                           77.740051                         Hudi   \n",
       "...                               ...                          ...   \n",
       "207612                      77.741516                     Kadugodi   \n",
       "207613                      77.745117                     Kadugodi   \n",
       "207614                      77.749886                      Hagadur   \n",
       "207615                      77.746841                      Hagadur   \n",
       "207616                      77.744125                      Hagadur   \n",
       "\n",
       "       deviceCode_pyld_alarmType  deviceCode_pyld_speed   \n",
       "0                            PCW                     32  \\\n",
       "1                            PCW                     32   \n",
       "2                            FCW                     41   \n",
       "3                            FCW                     41   \n",
       "4                      Overspeed                     37   \n",
       "...                          ...                    ...   \n",
       "207612                      UFCW                      0   \n",
       "207613                      UFCW                     12   \n",
       "207614                 Overspeed                     17   \n",
       "207615                       FCW                     36   \n",
       "207616                       PCW                     28   \n",
       "\n",
       "       deviceCode_time_recordedTime_$date  \n",
       "0                2018-02-01T01:48:59.000Z  \n",
       "1                2018-02-01T01:48:59.000Z  \n",
       "2                2018-02-01T01:50:00.000Z  \n",
       "3                2018-02-01T01:50:00.000Z  \n",
       "4                2018-02-01T01:50:11.000Z  \n",
       "...                                   ...  \n",
       "207612           2018-07-30T10:56:12.000Z  \n",
       "207613           2018-07-30T11:07:19.000Z  \n",
       "207614           2018-07-30T11:14:02.000Z  \n",
       "207615           2018-07-30T11:16:24.000Z  \n",
       "207616           2018-07-30T11:25:51.000Z  \n",
       "\n",
       "[207617 rows x 7 columns]"
      ]
     },
     "execution_count": 8,
     "metadata": {},
     "output_type": "execute_result"
    }
   ],
   "source": [
    "accidents"
   ]
  },
  {
   "cell_type": "code",
   "execution_count": 9,
   "metadata": {},
   "outputs": [
    {
     "data": {
      "text/plain": [
       "deviceCode_deviceCode\n",
       "863977033715231    23569\n",
       "863977033828919    18535\n",
       "863977033764239    17319\n",
       "863977033766374    17189\n",
       "863977033827523    16866\n",
       "864504031260694    15063\n",
       "864504031035658    13809\n",
       "863977033835484     9735\n",
       "864504031819929     8052\n",
       "864504031502210     8007\n",
       "864504031205202     7434\n",
       "863977033907911     7063\n",
       "864504031235647     5855\n",
       "864504031432707     5499\n",
       "863977033703997     4963\n",
       "863977033802534     4584\n",
       "863977033828794     4319\n",
       "863977033888558     3863\n",
       "863977033612396     3532\n",
       "863977033895017     3248\n",
       "863977033713764     2879\n",
       "864504031782226     2003\n",
       "863083037582683     1473\n",
       "864504031218007     1384\n",
       "864504031234988      735\n",
       "862010039078304      639\n",
       "Name: count, dtype: int64"
      ]
     },
     "execution_count": 9,
     "metadata": {},
     "output_type": "execute_result"
    }
   ],
   "source": [
    "accidents.deviceCode_deviceCode.value_counts()"
   ]
  },
  {
   "cell_type": "code",
   "execution_count": 11,
   "metadata": {},
   "outputs": [],
   "source": [
    "new_cols_dict ={\n",
    "    'deviceCode_deviceCode' : 'CAS_Device_Code',\n",
    "    'deviceCode_location_latitude' : 'Location_Latitude',\n",
    "    'deviceCode_location_longitude' : 'Location_Longtitude',\n",
    "    'deviceCode_location_wardName' : 'Ward_Name',\n",
    "    'deviceCode_pyld_alarmType' : 'Alarm_Type',\n",
    "    'deviceCode_pyld_speed' : 'Speed_kmph',\n",
    "    'deviceCode_time_recordedTime_$date' : 'Recorded_Time_Date'\n",
    "}\n",
    "accidents.rename(new_cols_dict, axis=1, inplace=True)"
   ]
  },
  {
   "cell_type": "code",
   "execution_count": 13,
   "metadata": {},
   "outputs": [
    {
     "data": {
      "text/html": [
       "<div>\n",
       "<style scoped>\n",
       "    .dataframe tbody tr th:only-of-type {\n",
       "        vertical-align: middle;\n",
       "    }\n",
       "\n",
       "    .dataframe tbody tr th {\n",
       "        vertical-align: top;\n",
       "    }\n",
       "\n",
       "    .dataframe thead th {\n",
       "        text-align: right;\n",
       "    }\n",
       "</style>\n",
       "<table border=\"1\" class=\"dataframe\">\n",
       "  <thead>\n",
       "    <tr style=\"text-align: right;\">\n",
       "      <th></th>\n",
       "      <th>CAS_Device_Code</th>\n",
       "      <th>Location_Latitude</th>\n",
       "      <th>Location_Longtitude</th>\n",
       "      <th>Ward_Name</th>\n",
       "      <th>Alarm_Type</th>\n",
       "      <th>Speed_kmph</th>\n",
       "      <th>Recorded_Time_Date</th>\n",
       "    </tr>\n",
       "  </thead>\n",
       "  <tbody>\n",
       "    <tr>\n",
       "      <th>0</th>\n",
       "      <td>864504031502210</td>\n",
       "      <td>12.984595</td>\n",
       "      <td>77.744087</td>\n",
       "      <td>Kadugodi</td>\n",
       "      <td>PCW</td>\n",
       "      <td>32</td>\n",
       "      <td>2018-02-01T01:48:59.000Z</td>\n",
       "    </tr>\n",
       "    <tr>\n",
       "      <th>1</th>\n",
       "      <td>864504031502210</td>\n",
       "      <td>12.984595</td>\n",
       "      <td>77.744087</td>\n",
       "      <td>Kadugodi</td>\n",
       "      <td>PCW</td>\n",
       "      <td>32</td>\n",
       "      <td>2018-02-01T01:48:59.000Z</td>\n",
       "    </tr>\n",
       "    <tr>\n",
       "      <th>2</th>\n",
       "      <td>864504031502210</td>\n",
       "      <td>12.987233</td>\n",
       "      <td>77.741119</td>\n",
       "      <td>Garudachar Playa</td>\n",
       "      <td>FCW</td>\n",
       "      <td>41</td>\n",
       "      <td>2018-02-01T01:50:00.000Z</td>\n",
       "    </tr>\n",
       "    <tr>\n",
       "      <th>3</th>\n",
       "      <td>864504031502210</td>\n",
       "      <td>12.987233</td>\n",
       "      <td>77.741119</td>\n",
       "      <td>Garudachar Playa</td>\n",
       "      <td>FCW</td>\n",
       "      <td>41</td>\n",
       "      <td>2018-02-01T01:50:00.000Z</td>\n",
       "    </tr>\n",
       "    <tr>\n",
       "      <th>4</th>\n",
       "      <td>864504031502210</td>\n",
       "      <td>12.987503</td>\n",
       "      <td>77.740051</td>\n",
       "      <td>Hudi</td>\n",
       "      <td>Overspeed</td>\n",
       "      <td>37</td>\n",
       "      <td>2018-02-01T01:50:11.000Z</td>\n",
       "    </tr>\n",
       "  </tbody>\n",
       "</table>\n",
       "</div>"
      ],
      "text/plain": [
       "   CAS_Device_Code  Location_Latitude  Location_Longtitude         Ward_Name   \n",
       "0  864504031502210          12.984595            77.744087          Kadugodi  \\\n",
       "1  864504031502210          12.984595            77.744087          Kadugodi   \n",
       "2  864504031502210          12.987233            77.741119  Garudachar Playa   \n",
       "3  864504031502210          12.987233            77.741119  Garudachar Playa   \n",
       "4  864504031502210          12.987503            77.740051              Hudi   \n",
       "\n",
       "  Alarm_Type  Speed_kmph        Recorded_Time_Date  \n",
       "0        PCW          32  2018-02-01T01:48:59.000Z  \n",
       "1        PCW          32  2018-02-01T01:48:59.000Z  \n",
       "2        FCW          41  2018-02-01T01:50:00.000Z  \n",
       "3        FCW          41  2018-02-01T01:50:00.000Z  \n",
       "4  Overspeed          37  2018-02-01T01:50:11.000Z  "
      ]
     },
     "execution_count": 13,
     "metadata": {},
     "output_type": "execute_result"
    }
   ],
   "source": [
    "accidents.head()"
   ]
  },
  {
   "cell_type": "code",
   "execution_count": 15,
   "metadata": {},
   "outputs": [],
   "source": [
    "accidents.to_excel('accidents_data_final.xlsx', sheet_name='Data')"
   ]
  }
 ],
 "metadata": {
  "kernelspec": {
   "display_name": "Python 3",
   "language": "python",
   "name": "python3"
  },
  "language_info": {
   "codemirror_mode": {
    "name": "ipython",
    "version": 3
   },
   "file_extension": ".py",
   "mimetype": "text/x-python",
   "name": "python",
   "nbconvert_exporter": "python",
   "pygments_lexer": "ipython3",
   "version": "3.11.3"
  },
  "orig_nbformat": 4
 },
 "nbformat": 4,
 "nbformat_minor": 2
}
